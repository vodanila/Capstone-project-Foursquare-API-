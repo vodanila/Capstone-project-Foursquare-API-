{
 "cells": [
  {
   "cell_type": "markdown",
   "metadata": {
    "collapsed": true
   },
   "source": [
    "## Table of contents\n",
    "* [Introduction: Business Problem](#introduction)\n",
    "* [Data](#data)\n",
    "* [Methodology](#methodology)\n",
    "* [Analysis](#analysis)\n",
    "* [Results and Discussion](#results)\n",
    "* [Conclusion](#conclusion)"
   ]
  },
  {
   "cell_type": "markdown",
   "metadata": {},
   "source": [
    "\n",
    "## Introduction: Business Problem <a name=\"introduction\"></a>"
   ]
  },
  {
   "cell_type": "markdown",
   "metadata": {},
   "source": [
    "According to **eharmony's** research there are 40 million Americans using online dating websites and those users range from young to old.  If we consider Russian market of online dating there are only 10 million users by now , but demand for this kind of services is still growing, so the number is expected to reach 12 million users in the  next two years. The big players of the field such as Tinder and Badoo have huge user bases,which allow them to charge their users for premium accounts. At the same time small companies cannot afford this because of their poor user databases, so they have to come up with new ideas for monetization of their own businesses.\n",
    "\n",
    "In order to attract advertisers to our online dating resource, we have decided to add a new feature 'Dating Ideas' to our website, where we are going to post possible places you can go with the person you met. We are willing to promote certain businesses as recommended places for a perfect first date.However, it is hard to tell which places might be interested in this kind of business offer. \n",
    "\n",
    "First, we want to understand the most popular places for the first dates.**(Moscow will be used in this research as the main city we target)** Second,we need to look through different boroughs in order to find certain locations with the most amount of spots that we are looking for. Finally, we can obtain the names of places those fit our model.  "
   ]
  },
  {
   "cell_type": "markdown",
   "metadata": {},
   "source": [
    "## Data <a name=\"data\"></a>"
   ]
  },
  {
   "cell_type": "markdown",
   "metadata": {},
   "source": [
    "To consider the problem we can list the datas as below:"
   ]
  },
  {
   "cell_type": "markdown",
   "metadata": {},
   "source": [
    "* I found Urban Footprint of Moscow from Spatial Data Repository of NYU. The .json file has coordinates of the all boroughs of Moscow. \n",
    "\n",
    "\n",
    "* I used Forsquare API to get the most common venues of given Borough of Moscow\n",
    "\n",
    "\n",
    "* The most popular places for arranging a first date were founded from survey by Ashley Madison dating site."
   ]
  },
  {
   "cell_type": "code",
   "execution_count": null,
   "metadata": {},
   "outputs": [],
   "source": []
  }
 ],
 "metadata": {
  "kernelspec": {
   "display_name": "Python 3",
   "language": "python",
   "name": "python3"
  },
  "language_info": {
   "codemirror_mode": {
    "name": "ipython",
    "version": 3
   },
   "file_extension": ".py",
   "mimetype": "text/x-python",
   "name": "python",
   "nbconvert_exporter": "python",
   "pygments_lexer": "ipython3",
   "version": "3.7.3rc1"
  }
 },
 "nbformat": 4,
 "nbformat_minor": 1
}
